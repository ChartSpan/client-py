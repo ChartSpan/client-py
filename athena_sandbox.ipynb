{
 "cells": [
  {
   "attachments": {},
   "cell_type": "markdown",
   "id": "38bf592e",
   "metadata": {},
   "source": [
    "### Subscriptions\n",
    "\n",
    "#### Appointments\n",
    "```\n",
    "GET\n",
    "\n",
    "​/v1​/{practiceid}​/appointments​/changed​/subscription\n",
    "\n",
    "Get list of appointment slot change subscription(s)\n",
    "\n",
    "POST\n",
    "\n",
    "​/v1​/{practiceid}​/appointments​/changed​/subscription\n",
    "\n",
    "Subscribe to all/specific change events for appointment slots\n",
    "```\n",
    "\n",
    "#### Allergies\n",
    "```\n",
    "POST\n",
    "\n",
    "​/v1​/{practiceid}​/chart​/healthhistory​/allergies​/changed​/subscription\n",
    "\n",
    "Subscribe to all/specific change events for allergies\n",
    "\n",
    "\n",
    "GET\n",
    "\n",
    "​/v1​/{practiceid}​/chart​/healthhistory​/allergies​/changed​/subscription\n",
    "\n",
    "Get list of allergy change subscription(s)\n",
    "\n",
    "\n",
    "GET\n",
    "\n",
    "​/v1​/{practiceid}​/chart​/healthhistory​/allergies​/changed​/subscription​/events\n",
    "\n",
    "Get list of allergy change events to which you are subscribed\n",
    "```\n",
    "\n",
    "\n",
    "#### Medication\n",
    "```\n",
    "POST\n",
    "\n",
    "​/v1​/{practiceid}​/chart​/healthhistory​/medication​/changed​/subscription\n",
    "\n",
    "Subscribe to all/specific change events for medication list\n",
    "\n",
    "\n",
    "GET\n",
    "\n",
    "​/v1​/{practiceid}​/chart​/healthhistory​/medication​/changed​/subscription\n",
    "\n",
    "Get list of medication list change subscription(s)\n",
    "\n",
    "\n",
    "GET\n",
    "\n",
    "​/v1​/{practiceid}​/chart​/healthhistory​/medication​/changed​/subscription​/events\n",
    "\n",
    "Get list of medication list change events to which you can subscribe\n",
    "```\n",
    "\n",
    "#### Problem\n",
    "```\n",
    "POST\n",
    "\n",
    "​/v1​/{practiceid}​/chart​/healthhistory​/problems​/changed​/subscription\n",
    "\n",
    "Subscribe to all/specific change events for problems\n",
    "\n",
    "\n",
    "GET\n",
    "\n",
    "​/v1​/{practiceid}​/chart​/healthhistory​/problems​/changed​/subscription\n",
    "\n",
    "Get list of problems change subscription(s)\n",
    "\n",
    "\n",
    "DELETE\n",
    "\n",
    "​/v1​/{practiceid}​/chart​/healthhistory​/problems​/changed​/subscription\n",
    "\n",
    "Unsubscribe to all/specific change events for problems\n",
    "\n",
    "\n",
    "GET\n",
    "​\n",
    "/v1​/{practiceid}​/chart​/healthhistory​/problems​/changed​/subscription​/events\n",
    "\n",
    "Get list of problems change events to which you can subscribe\n",
    "```\n",
    "\n",
    "#### Vaccines\n",
    "```\n",
    "GET\n",
    "\n",
    "​/v1​/{practiceid}​/chart​/healthhistory​/vaccine​/changed\n",
    "\n",
    "Get list of changes in vaccines based on subscription\n",
    "\n",
    "\n",
    "POST\n",
    "\n",
    "​/v1​/{practiceid}​/chart​/healthhistory​/vaccine​/changed​/subscription\n",
    "\n",
    "Subscribe to all/specific change events for vaccines\n",
    "\n",
    "\n",
    "GET\n",
    "\n",
    "​/v1​/{practiceid}​/chart​/healthhistory​/vaccine​/changed​/subscription\n",
    "\n",
    "Get list of vaccine change subscription(s)\n",
    "\n",
    "\n",
    "DELETE\n",
    "\n",
    "​/v1​/{practiceid}​/chart​/healthhistory​/vaccine​/changed​/subscription\n",
    "\n",
    "Unsubscribe to all/specific change events for vaccines\n",
    "\n",
    "\n",
    "GET\n",
    "\n",
    "​/v1​/{practiceid}​/chart​/healthhistory​/vaccine​/changed​/subscription​/events\n",
    "\n",
    "Get list of vaccine change events to which you can subscribe\n",
    "```\n",
    "\n",
    "#### Additional available resources\n",
    "##### Documents and Forms\n",
    "Documents / Imaging Results / Lab Results / Orders / Prescriptions\n",
    "\n",
    "##### Hospital\n",
    "Charge Codes / OR Case / Stays / Surgery / Visits \n",
    "\n",
    "##### Insurance\n",
    "CCM Enrollments / Claims\n",
    "\n",
    "##### Provider\n",
    "\n"
   ]
  },
  {
   "attachments": {},
   "cell_type": "markdown",
   "id": "e3b243e3",
   "metadata": {},
   "source": [
    "## Subscription Endpoint Responses\n",
    "[Appointments](./sandbox_responses/subscription_appointments.json)\n",
    "\n",
    "\n",
    "[Patients](./sandbox_responses/subscription_patients.json)"
   ]
  },
  {
   "attachments": {},
   "cell_type": "markdown",
   "id": "6c2d82be",
   "metadata": {},
   "source": [
    "## TODOs\n",
    "* Link to CS FHIR client\n",
    "* Post under cs_athena in EHR-Modules\n"
   ]
  },
  {
   "cell_type": "code",
   "execution_count": null,
   "id": "663a6fcd",
   "metadata": {},
   "outputs": [],
   "source": [
    "import logging\n",
    "import pprint\n",
    "import os\n",
    "from fhirclient import client"
   ]
  },
  {
   "cell_type": "code",
   "execution_count": null,
   "id": "b8b3b2d1",
   "metadata": {},
   "outputs": [],
   "source": [
    "settings = {\n",
    "    'app_id': os.getenv('APP_ID'),\n",
    "    'app_secret': os.getenv('APP_SECRET'),\n",
    "    'api_base': 'https://api.platform.athenahealth.com/fhir/r4',\n",
    "    'scope': os.getenv('APP_SCOPE')\n",
    "}"
   ]
  },
  {
   "cell_type": "code",
   "execution_count": null,
   "id": "c340a22c",
   "metadata": {},
   "outputs": [],
   "source": [
    "smart = client.FHIRClient(settings=settings)\n",
    "smart.authorize_url"
   ]
  },
  {
   "cell_type": "code",
   "execution_count": null,
   "id": "8c891c55",
   "metadata": {},
   "outputs": [],
   "source": [
    "#dstu = client.FHIRClient(settings=dstu_settings)\n",
    "#dstu.authorize_url"
   ]
  },
  {
   "cell_type": "code",
   "execution_count": null,
   "id": "1930b930",
   "metadata": {},
   "outputs": [],
   "source": [
    "smart.authorize()"
   ]
  },
  {
   "attachments": {},
   "cell_type": "markdown",
   "id": "c412eada",
   "metadata": {},
   "source": [
    "## Patient"
   ]
  },
  {
   "cell_type": "code",
   "execution_count": null,
   "id": "b413d630",
   "metadata": {},
   "outputs": [],
   "source": [
    "import fhirclient.models.patient as p\n",
    "patient = p.Patient.read('a-18470.E-73', smart.server)\n",
    "#print(patient.id)\n",
    "#print(patient.name[0].given[0])\n",
    "pprint.pprint(patient.as_json())"
   ]
  },
  {
   "cell_type": "code",
   "execution_count": null,
   "id": "179ae624",
   "metadata": {},
   "outputs": [],
   "source": [
    "for a in patient.address:\n",
    "    print()\n",
    "    print(a.line[0])"
   ]
  },
  {
   "attachments": {},
   "cell_type": "markdown",
   "id": "82a50e5c",
   "metadata": {},
   "source": [
    "## Appointment - FHIR DSTU2\n",
    "\n",
    "[Day's appointments](./sandbox_responses/appointments.json)"
   ]
  },
  {
   "cell_type": "code",
   "execution_count": null,
   "id": "47c1d576",
   "metadata": {},
   "outputs": [],
   "source": [
    "# ERROR - DSTU2\n",
    "'''\n",
    "import fhirclient.models.appointment as appointment\n",
    "appointments = appointment.Appointment.read(274032, smart.server)\n",
    "#appointments = appointment_search.perform_resources(smart.server)\n",
    "\n",
    "for a in appointments:\n",
    "    pprint.pprint(a.as_json())\n",
    "'''"
   ]
  },
  {
   "attachments": {},
   "cell_type": "markdown",
   "id": "1f4350f9",
   "metadata": {},
   "source": [
    "## Allergy"
   ]
  },
  {
   "cell_type": "code",
   "execution_count": null,
   "id": "5c690371",
   "metadata": {},
   "outputs": [],
   "source": [
    "import fhirclient.models.allergyintolerance as allergy\n",
    "search = allergy.AllergyIntolerance.where(struct={'patient': patient.id})\n",
    "ai = search.perform_resources(smart.server)\n",
    "\n",
    "for patient_allergy in ai:\n",
    "    pprint.pprint(patient_allergy.as_json())"
   ]
  },
  {
   "attachments": {},
   "cell_type": "markdown",
   "id": "f41c3315",
   "metadata": {},
   "source": [
    "## Immunization\n",
    "\n",
    "* Can't find the actual medicine administered.  May need to look at encounters"
   ]
  },
  {
   "cell_type": "code",
   "execution_count": null,
   "id": "ed99ad6a",
   "metadata": {},
   "outputs": [],
   "source": [
    "import fhirclient.models.immunization as immunization\n",
    "immunization_search = immunization.Immunization.where(struct={'patient': patient.id})\n",
    "immunizations = immunization_search.perform_resources(smart.server)\n",
    "\n",
    "for i in immunizations:\n",
    "    pprint.pprint(i.as_json())"
   ]
  },
  {
   "attachments": {},
   "cell_type": "markdown",
   "id": "4a3afcf3",
   "metadata": {},
   "source": [
    "## Encounter - DSTU2\n",
    "/v1/{practiceid}/{departmentid}/fhir/dstu2/Encounter\n",
    "\n",
    "* Doesn't necessarilly translate to an appointment\n",
    "* Doesn't have an appointment ID\n",
    "\n",
    "[Encounters](./sandbox_responses/encounters.json)"
   ]
  },
  {
   "attachments": {},
   "cell_type": "markdown",
   "id": "ec281db8",
   "metadata": {},
   "source": [
    "## Insurance - V1 endpoints\n",
    "\n",
    "/v1/{practiceid}/patients/{patientid}/insurances\n",
    "\n",
    "[Insurance](./sandbox_responses/insurance.json)"
   ]
  },
  {
   "attachments": {},
   "cell_type": "markdown",
   "id": "0e07f2e9",
   "metadata": {},
   "source": [
    "## MedicationRequest\n",
    "\n",
    "[Sandbox MedicationRequest Reponse](./sandbox_responses/medicationRequest.json)\n",
    "\n",
    "Responses vary.  Examples:\n",
    "\n",
    "`amoxicillin 875 mg-potassium clavulanate 125 mg tablet`\n"
   ]
  },
  {
   "cell_type": "code",
   "execution_count": null,
   "id": "227f4c8e",
   "metadata": {},
   "outputs": [],
   "source": [
    "# ERROR\n",
    "import fhirclient.models.medicationrequest as medication\n",
    "medication_search = medication.MedicationRequest.where(struct={'patientid': patient.id, 'ah-practice': 'Organization/a-1.Practice-18470', 'intent': 'order', })\n",
    "medications = medication_search.perform_resources(smart.server)\n",
    "\n",
    "for m in medications:\n",
    "    pprint.pprint(m.as_json())"
   ]
  },
  {
   "attachments": {},
   "cell_type": "markdown",
   "id": "5199ec7b",
   "metadata": {},
   "source": [
    "## Problem - FHIR Conditions"
   ]
  },
  {
   "cell_type": "code",
   "execution_count": null,
   "id": "83c70abe",
   "metadata": {},
   "outputs": [],
   "source": [
    "import fhirclient.models.condition as condition\n",
    "condition_search = condition.Condition.where(struct={'patient': patient.id})\n",
    "conditions = condition_search.perform_resources(smart.server)\n",
    "\n",
    "for c in conditions:\n",
    "    pprint.pprint(c.as_json())"
   ]
  },
  {
   "attachments": {},
   "cell_type": "markdown",
   "id": "59dea443",
   "metadata": {},
   "source": [
    "## Vitals - FHIR Observation\n",
    "* Data is inconsistent\n",
    "* Getting multiples of the same parameter(for instance HR)\n",
    "* Did not find bp in any of the records"
   ]
  },
  {
   "cell_type": "code",
   "execution_count": null,
   "id": "b586dff1",
   "metadata": {},
   "outputs": [],
   "source": [
    "import fhirclient.models.observation as observation\n",
    "observation_search = observation.Observation.where(struct={'patient': patient.id})\n",
    "observations = observation_search.perform_resources(smart.server)\n",
    "\n",
    "for o in observations:\n",
    "    pprint.pprint(o.as_json())\n",
    "    o.category"
   ]
  },
  {
   "attachments": {},
   "cell_type": "markdown",
   "id": "11bad99f",
   "metadata": {},
   "source": [
    "## Vitals - /v1/\n",
    "/v1/{practiceid}/chart/{patientid}/vitals\n",
    "\n",
    "[v1/18470/chart/73/vitals?departmentid=1](./sandbox_responses/vitals.json)"
   ]
  },
  {
   "attachments": {},
   "cell_type": "markdown",
   "id": "7211e0b7",
   "metadata": {},
   "source": [
    "## Organization"
   ]
  },
  {
   "cell_type": "code",
   "execution_count": null,
   "id": "ce1acc99",
   "metadata": {},
   "outputs": [],
   "source": [
    "import fhirclient.models.organization as o\n",
    "org = o.Organization.read('a-1.Practice-18470', smart.server)\n",
    "org.as_json()"
   ]
  }
 ],
 "metadata": {
  "kernelspec": {
   "display_name": "venv",
   "language": "python",
   "name": "python3"
  },
  "language_info": {
   "codemirror_mode": {
    "name": "ipython",
    "version": 3
   },
   "file_extension": ".py",
   "mimetype": "text/x-python",
   "name": "python",
   "nbconvert_exporter": "python",
   "pygments_lexer": "ipython3",
   "version": "3.11.1"
  },
  "vscode": {
   "interpreter": {
    "hash": "93b71ab13c6238dc308b54b47afc19822fc8192f0fd9492d84ca5299d18d75d8"
   }
  }
 },
 "nbformat": 4,
 "nbformat_minor": 5
}
